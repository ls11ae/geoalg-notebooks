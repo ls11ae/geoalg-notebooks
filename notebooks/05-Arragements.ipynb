{
 "cells": [
  {
   "cell_type": "markdown",
   "metadata": {},
   "source": [
    "# 05: Duality and Arrangements"
   ]
  },
  {
   "cell_type": "markdown",
   "metadata": {},
   "source": [
    "*Authors: Felix Espey*"
   ]
  },
  {
   "cell_type": "markdown",
   "metadata": {},
   "source": [
    "This notebook serves as supplementary learning material for the course **Geometric Algorithms**.\n",
    "It showcases and explains implementations of algorithms presented in the corresponding lecture, and elaborates on some practical considerations concerning their use.\n",
    "Furthermore, it offers interactive visualisations and animations."
   ]
  },
  {
   "cell_type": "markdown",
   "metadata": {},
   "source": [
    "## Table of Contents"
   ]
  },
  {
   "cell_type": "markdown",
   "metadata": {},
   "source": [
    "1. Introduction  \n",
    "2. Setup\n",
    "3. Duality  \n",
    "    3.1. Setup  \n",
    "    3.2. Visualisation  \n",
    "    3.3. Algorithm(s)\n",
    "4. Arragements\n",
    "5. References"
   ]
  },
  {
   "cell_type": "markdown",
   "metadata": {},
   "source": [
    "## 1. Introduction"
   ]
  },
  {
   "cell_type": "markdown",
   "metadata": {},
   "source": [
    "This chapter contains two connected topics, **Duality** and **Arragements**.\n",
    "\n",
    "**Duality** is an alternative approach to think about points and lines, representing one as the other. This allows to use algorithms for one problem on one on the problems for the other. For example, checking if 3 points are on a line is the same as checking if the dual lines of those points all intersect in a single point.\n",
    "\n",
    "An **Arangement** $\\mathcal{A}$ is a subdivision of the plane induced by a set $L$ of lines. It has vertices (intersection of the lines of $L$), edges (segments of the lines of $L$) and faces (area inbetween the lines of $L$).\n",
    "\n",
    "Many problems on a set of points can be solved by calculating the Arrangement on the dual lines of those points.\n",
    "\n",
    "We will first go over duality and some examples to make the concept more clear before going to Arangements later."
   ]
  },
  {
   "cell_type": "markdown",
   "metadata": {},
   "source": [
    "PLACEHOLDER IMAGE\n",
    "\n",
    "<img style='float: left;' src='./images/04-image00.png' width='440px' height='412'>\n",
    "<img style='float: left;' src='./images/04-image01.png' width='440px' height='412'>"
   ]
  },
  {
   "cell_type": "markdown",
   "metadata": {},
   "source": [
    "## 2. Setup"
   ]
  },
  {
   "cell_type": "markdown",
   "metadata": {},
   "source": [
    "First let's do some setup. This is not very interesting, so you can skip to Section 3 if you want.\n",
    "\n",
    "We now import everything we'll need throughout this notebook from external sources, including our module for generic data structures, our module for geometric primitives and operations as well as our module for visualisation purposes. \n",
    "These modules are explained in [notebook no. 00](./00-Basics.ipynb)."
   ]
  },
  {
   "cell_type": "code",
   "execution_count": 2,
   "metadata": {},
   "outputs": [],
   "source": []
  },
  {
   "cell_type": "markdown",
   "metadata": {},
   "source": [
    "## 3. Duality"
   ]
  },
  {
   "cell_type": "markdown",
   "metadata": {},
   "source": [
    "In the intro I already explained how **Duality** alows us to represent points and lines and vice versa. This could in theory be done in any convoluted way we wanted, but here we have a simple transformation.\n",
    "\n",
    "A **point** $p = (x, y)$ becomes the line $p* := (y = p_x x - p_y)$. $p*$ is then called the dual of $p$.\n",
    "You can see that the x-coordinate of the point becomes the slope of the line, while the y-coordinate becomes the offset of the line in the y direction. This also lets us define the inverse pretty easily.\n",
    "\n",
    "A **line** $l = mx + b$ becomes the point $l* = (m, -b)$. The slope becomes the x-coordinate and the y-offset negated becomes the y-coordinate.\n",
    "\n",
    "A **Line Segment** defined by two points $p_1, p_2$ becomes the area between the two dual lines of those points. \n",
    "\n",
    "The concept itself is pretty easy to understand, but since it can be hard to visualise. To make this easier, we will create a visual aid to play around with below"
   ]
  },
  {
   "cell_type": "markdown",
   "metadata": {},
   "source": [
    "### 3.1 Setup"
   ]
  },
  {
   "cell_type": "markdown",
   "metadata": {},
   "source": [
    "We start by setting up some things like imports and the visualisation tool. This is not relevant to the lecture, so you can freely skip this section."
   ]
  },
  {
   "cell_type": "code",
   "execution_count": 3,
   "metadata": {},
   "outputs": [],
   "source": [
    "from modules.geometry import Point, Line, LineSegment"
   ]
  },
  {
   "cell_type": "markdown",
   "metadata": {},
   "source": [
    "### 3.2 Visualisation"
   ]
  },
  {
   "cell_type": "markdown",
   "metadata": {},
   "source": [
    "Next we have to set up some functions to use in the visualisation. First lets make some simple functions to convert points and lines into the respective duals."
   ]
  },
  {
   "cell_type": "code",
   "execution_count": 4,
   "metadata": {},
   "outputs": [],
   "source": [
    "def getDualFromPoint(p : Point) -> Line:\n",
    "    return Line(p.x, p.y)\n",
    "\n",
    "def getDualFromLine(l : Line) -> Point:\n",
    "    return Point(l.p1, -l.p2)\n",
    "\n",
    "def getDualFromLineSegment(ls : LineSegment) -> tuple[Line,Line]:\n",
    "    return tuple[getDualFromPoint(ls.upper), getDualFromLineSegment(ls.lower)]"
   ]
  },
  {
   "cell_type": "markdown",
   "metadata": {},
   "source": [
    "## 4 Arrangements"
   ]
  },
  {
   "cell_type": "markdown",
   "metadata": {},
   "source": [
    "An **Arrangement** $\\mathcal{A}(L)$ is a subdivision of the plane induced by a set $L$ of lines. It has vertices (intersection of the lines of $L$), edges (segments of the lines of $L$) and faces (area inbetween the lines of $L$).\n",
    "\n",
    "The outer edges and faces of an Arrangement are unbounded. For edges this happens because the lines that make the edge have some last intersection with the other lines of $L$. The edge after that intersection has no other endpoint. The outer faces are also unbounded as they have no additional line limiting their size.\n",
    "\n",
    "Since DCLEs can only store bounded edges and faces, we generate a bounding box $\\mathcal{B}$ around $L$ and only consider the parts of lines inside this box. This adds additional vertices where the lines intersect with the bounding box. We also get new edges as the boundary of the box becomes part of the DCEL.\n",
    "\n",
    "Once we have a DCLE form the bounding box we can add the lines of $L$ incrementally. We do this by following along the line from left to right, splitting each face we find on the way by adding new Edges and Vertices as needed. \n",
    "\n",
    "The steps to computing the Arrangement $\\mathcal{A}(L)$ then are as follows:\n",
    "1. compute the bounding box $\\mathcal{B}(L)$\n",
    "2. initialize DCEL with the edges, vertices and interior face from the bounding box\n",
    "3. incrementally add the lines of $L$ into the DCEL\n",
    "   \n",
    "We will go over these steps one by one with a more detailed explanation for step 3. as it is the main part of the algorithm."
   ]
  },
  {
   "cell_type": "markdown",
   "metadata": {},
   "source": [
    "### 4.1 Bounding box"
   ]
  },
  {
   "cell_type": "markdown",
   "metadata": {},
   "source": [
    "As stated above, the first step is to calculate the bounding box $\\mathcal{B}$ of the set of lines $L$.\n",
    "\n",
    "This bounding box should contain all vertices of the Arrangment $\\mathcal{A}(L)$ of $L$. Since the vertices of $\\mathcal{A}(L)$ are just the intersection points of the lines in $L$, what we actually need to find are the maximum and minimum x and y coordinate of the intersections. Then we can use them as cornerpoints for an axis alinged box that contains all vertices.\n",
    "\n",
    "To find the intersection we points we could use a linesweep algorithm, but in this case we will just go with a bruteforce Algorithm that runs in quadratic time. In theory this is super easy, but in pratice we need to be careful with special cases. The steps are as follows:\n",
    "\n",
    "1. First we need to find all Intersections between the lines. For this we just use a bruteforce approach by checking all possible combinations of lines\n",
    "2. Search the list of intersections for the biggest and smallest x and y coordinates.\n",
    "3. Build the corners of the bounding box from the min/max x/y coordinates of the intersection points\n",
    "\n",
    "Since it is possible that two lines intersect very far away, we will ignore any intersections outside visible area. Since we only check for intersections within the bounding box when calculating the arrangement, this does not change the algorithm. It does however change the resulting arragement itself."
   ]
  },
  {
   "cell_type": "code",
   "execution_count": 1,
   "metadata": {},
   "outputs": [
    {
     "ename": "AttributeError",
     "evalue": "'PointSequence' object has no attribute 'update'",
     "output_type": "error",
     "traceback": [
      "\u001b[1;31m---------------------------------------------------------------------------\u001b[0m",
      "\u001b[1;31mAttributeError\u001b[0m                            Traceback (most recent call last)",
      "Cell \u001b[1;32mIn[1], line 47\u001b[0m\n\u001b[0;32m     43\u001b[0m p5 \u001b[38;5;241m=\u001b[39m Point(\u001b[38;5;241m1000\u001b[39m, \u001b[38;5;241m100\u001b[39m)\n\u001b[0;32m     45\u001b[0m lines \u001b[38;5;241m=\u001b[39m [Line(p1,p2 ), Line(p1,p5 ), Line(p3,p4), Line(p2,p4)]\n\u001b[1;32m---> 47\u001b[0m \u001b[38;5;28mprint\u001b[39m(\u001b[43mcomputeBoundingBoxAlg\u001b[49m\u001b[43m(\u001b[49m\u001b[43mlines\u001b[49m\u001b[43m)\u001b[49m)\n\u001b[0;32m     49\u001b[0m \u001b[38;5;66;03m#visualisation_tool = VisualisationTool(400, 400, LineSetInstance())\u001b[39;00m\n\u001b[0;32m     50\u001b[0m \u001b[38;5;66;03m#canvas_size = min(visualisation_tool.width, visualisation_tool.height)\u001b[39;00m\n\u001b[0;32m     51\u001b[0m \u001b[38;5;66;03m#visualisation_tool.register_algorithm(\"boundingBox\", computeBoundingBoxAlg, PointsMode())\u001b[39;00m\n\u001b[0;32m     52\u001b[0m \u001b[38;5;66;03m#visualisation_tool.display()\u001b[39;00m\n",
      "Cell \u001b[1;32mIn[1], line 37\u001b[0m, in \u001b[0;36mcomputeBoundingBoxAlg\u001b[1;34m(lines)\u001b[0m\n\u001b[0;32m     36\u001b[0m \u001b[38;5;28;01mdef\u001b[39;00m \u001b[38;5;21mcomputeBoundingBoxAlg\u001b[39m(lines:\u001b[38;5;28mset\u001b[39m[Line]):\n\u001b[1;32m---> 37\u001b[0m     \u001b[43mcomputeBoundingBox\u001b[49m\u001b[43m(\u001b[49m\u001b[43mlines\u001b[49m\u001b[43m,\u001b[49m\u001b[43m \u001b[49m\u001b[43mRectangle\u001b[49m\u001b[43m(\u001b[49m\u001b[43mPoint\u001b[49m\u001b[43m(\u001b[49m\u001b[38;5;241;43m10\u001b[39;49m\u001b[43m,\u001b[49m\u001b[38;5;241;43m10\u001b[39;49m\u001b[43m)\u001b[49m\u001b[43m,\u001b[49m\u001b[43m \u001b[49m\u001b[43mPoint\u001b[49m\u001b[43m(\u001b[49m\u001b[38;5;241;43m390\u001b[39;49m\u001b[43m,\u001b[49m\u001b[38;5;241;43m390\u001b[39;49m\u001b[43m)\u001b[49m\u001b[43m)\u001b[49m\u001b[43m)\u001b[49m\n",
      "Cell \u001b[1;32mIn[1], line 19\u001b[0m, in \u001b[0;36mcomputeBoundingBox\u001b[1;34m(lines, visibleArea)\u001b[0m\n\u001b[0;32m     17\u001b[0m \u001b[38;5;28;01mif\u001b[39;00m(intersection\u001b[38;5;241m.\u001b[39mx \u001b[38;5;241m<\u001b[39m botLeft\u001b[38;5;241m.\u001b[39mx):\n\u001b[0;32m     18\u001b[0m     newBotLeft \u001b[38;5;241m=\u001b[39m Point(intersection\u001b[38;5;241m.\u001b[39mx, botLeft\u001b[38;5;241m.\u001b[39my)\n\u001b[1;32m---> 19\u001b[0m     \u001b[43mpoints\u001b[49m\u001b[38;5;241;43m.\u001b[39;49m\u001b[43mupdate\u001b[49m(botLeft, newBotLeft)\n\u001b[0;32m     20\u001b[0m     botLeft \u001b[38;5;241m=\u001b[39m newBotLeft\n\u001b[0;32m     21\u001b[0m \u001b[38;5;28;01mif\u001b[39;00m(intersection\u001b[38;5;241m.\u001b[39my \u001b[38;5;241m<\u001b[39m botLeft\u001b[38;5;241m.\u001b[39my):\n",
      "\u001b[1;31mAttributeError\u001b[0m: 'PointSequence' object has no attribute 'update'"
     ]
    }
   ],
   "source": [
    "from modules.geometry.core import Rectangle, Point, Line\n",
    "from itertools import combinations\n",
    "from modules.geometry import PointSequence\n",
    "from modules.visualisation import VisualisationTool, LineSetInstance\n",
    "from modules.visualisation.drawing import PointsMode\n",
    "\n",
    "def computeBoundingBox(lines:set[Line], visibleArea : Rectangle) -> PointSequence:\n",
    "    points : PointSequence = PointSequence()\n",
    "    botLeft = Point(float('inf'), float('inf'))\n",
    "    topRight = Point(float('-inf'), float('-inf'))\n",
    "    points.append(botLeft)\n",
    "    points.append(topRight)\n",
    "    for line1, line2 in combinations(lines, 2):\n",
    "        intersection = line1.getIntersection(line2)\n",
    "        if(type(intersection) is Point and visibleArea.isInside(intersection)):\n",
    "            points.append(intersection)\n",
    "            if(intersection.x < botLeft.x):\n",
    "                newBotLeft = Point(intersection.x, botLeft.y)\n",
    "                points.update(botLeft, newBotLeft)\n",
    "                botLeft = newBotLeft\n",
    "            if(intersection.y < botLeft.y):\n",
    "                newBotLeft = Point(botLeft.x, intersection.y)\n",
    "                points.update(botLeft, newBotLeft)\n",
    "                botLeft = newBotLeft\n",
    "            if(intersection.x > topRight.x):\n",
    "                newtopRight = Point(intersection.x, topRight.y)\n",
    "                points.update(newtopRight, newBotLeft)\n",
    "                topRight = newtopRight\n",
    "            if(intersection.y > topRight.y):\n",
    "                newtopRight = Point(topRight.x, intersection.y)\n",
    "                points.update(topRight, newtopRight)\n",
    "                topRight = newtopRight\n",
    "            points.delete(intersection)\n",
    "    return points\n",
    "\n",
    "def computeBoundingBoxAlg(lines:set[Line]):\n",
    "    computeBoundingBox(lines, Rectangle(Point(10,10), Point(390,390)))\n",
    "\n",
    "p1 = Point(10, 10)\n",
    "p2 = Point(100, 1000)\n",
    "p3 = Point(100, 20)\n",
    "p4 = Point(300, 900)\n",
    "p5 = Point(1000, 100)\n",
    "\n",
    "lines = [Line(p1,p2 ), Line(p1,p5 ), Line(p3,p4), Line(p2,p4)]\n",
    "\n",
    "print(computeBoundingBoxAlg(lines))\n",
    "\n",
    "#visualisation_tool = VisualisationTool(400, 400, LineSetInstance())\n",
    "#canvas_size = min(visualisation_tool.width, visualisation_tool.height)\n",
    "#visualisation_tool.register_algorithm(\"boundingBox\", computeBoundingBoxAlg, PointsMode())\n",
    "#visualisation_tool.display()"
   ]
  },
  {
   "cell_type": "code",
   "execution_count": 1,
   "metadata": {},
   "outputs": [
    {
     "ename": "ModuleNotFoundError",
     "evalue": "No module named 'dcel_animator'",
     "output_type": "error",
     "traceback": [
      "\u001b[1;31m---------------------------------------------------------------------------\u001b[0m",
      "\u001b[1;31mModuleNotFoundError\u001b[0m                       Traceback (most recent call last)",
      "Cell \u001b[1;32mIn[1], line 2\u001b[0m\n\u001b[0;32m      1\u001b[0m \u001b[38;5;28;01mfrom\u001b[39;00m \u001b[38;5;21;01mmodules\u001b[39;00m\u001b[38;5;21;01m.\u001b[39;00m\u001b[38;5;21;01mgeometry\u001b[39;00m \u001b[38;5;28;01mimport\u001b[39;00m Point, PointReference, Orientation, PointExtension, PointList \u001b[38;5;28;01mas\u001b[39;00m ORT\n\u001b[1;32m----> 2\u001b[0m \u001b[38;5;28;01mfrom\u001b[39;00m \u001b[38;5;21;01mmodules\u001b[39;00m\u001b[38;5;21;01m.\u001b[39;00m\u001b[38;5;21;01mdata_structures\u001b[39;00m\u001b[38;5;21;01m.\u001b[39;00m\u001b[38;5;21;01manimation_objects\u001b[39;00m \u001b[38;5;28;01mimport\u001b[39;00m PointSequence\n\u001b[0;32m      3\u001b[0m \u001b[38;5;28;01mfrom\u001b[39;00m \u001b[38;5;21;01mmodules\u001b[39;00m\u001b[38;5;21;01m.\u001b[39;00m\u001b[38;5;21;01mvisualisation\u001b[39;00m \u001b[38;5;28;01mimport\u001b[39;00m PointsMode, VisualisationTool, PointSetInstance, LineSetInstance\n\u001b[0;32m      4\u001b[0m \u001b[38;5;28;01mfrom\u001b[39;00m \u001b[38;5;21;01mmodules\u001b[39;00m\u001b[38;5;21;01m.\u001b[39;00m\u001b[38;5;21;01mvisualisation\u001b[39;00m\u001b[38;5;21;01m.\u001b[39;00m\u001b[38;5;21;01mdrawing\u001b[39;00m \u001b[38;5;28;01mimport\u001b[39;00m LineMode\n",
      "File \u001b[1;32md:\\Dokumente\\FinanzenEtc\\UniJob(Jupyter)\\git\\geoalg-notebooks\\notebooks\\modules\\data_structures\\animation_objects\\__init__.py:1\u001b[0m\n\u001b[1;32m----> 1\u001b[0m \u001b[38;5;28;01mfrom\u001b[39;00m \u001b[38;5;21;01mdcel_animator\u001b[39;00m \u001b[38;5;28;01mimport\u001b[39;00m \u001b[38;5;241m*\u001b[39m\n",
      "\u001b[1;31mModuleNotFoundError\u001b[0m: No module named 'dcel_animator'"
     ]
    }
   ],
   "source": [
    "from modules.geometry import Point, PointReference, Orientation, PointExtension, PointList as ORT\n",
    "from modules.visualisation import PointsMode, VisualisationTool, PointSetInstance, LineSetInstance\n",
    "from modules.visualisation.drawing import LineMode\n",
    "\n",
    "def makePoints(points: set[Point]):\n",
    "    pass\n",
    "\n",
    "class test1:\n",
    "    def execute_on(points: list[Point]):\n",
    "        pass\n",
    "\n",
    "class test2(test1):\n",
    "    def execute_on(points: list[PointExtension]):\n",
    "        return super().execute_on()\n",
    "\n",
    "list : list[PointExtension] = []\n",
    "test2.execute_on(list)\n",
    "\n",
    "\n",
    "visualisation_tool = VisualisationTool(400, 400, LineSetInstance())\n",
    "canvas_size = min(visualisation_tool.width, visualisation_tool.height)\n",
    "visualisation_tool.register_algorithm(\"makePoints\", makePoints, LineMode())\n"
   ]
  },
  {
   "cell_type": "code",
   "execution_count": 2,
   "metadata": {},
   "outputs": [
    {
     "data": {
      "application/vnd.jupyter.widget-view+json": {
       "model_id": "0d47ef6740004b9bab98500dc91bf9e8",
       "version_major": 2,
       "version_minor": 0
      },
      "text/plain": [
       "HBox(children=(VBox(children=(Output(layout=Layout(border_bottom='1px solid black', border_left='1px solid bla…"
      ]
     },
     "metadata": {},
     "output_type": "display_data"
    }
   ],
   "source": [
    "visualisation_tool.display()"
   ]
  }
 ],
 "metadata": {
  "kernelspec": {
   "display_name": "Python 3",
   "language": "python",
   "name": "python3"
  },
  "language_info": {
   "codemirror_mode": {
    "name": "ipython",
    "version": 3
   },
   "file_extension": ".py",
   "mimetype": "text/x-python",
   "name": "python",
   "nbconvert_exporter": "python",
   "pygments_lexer": "ipython3",
   "version": "3.12.2"
  },
  "orig_nbformat": 4
 },
 "nbformat": 4,
 "nbformat_minor": 2
}
